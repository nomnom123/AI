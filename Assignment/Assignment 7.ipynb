{
  "cells": [
    {
      "metadata": {
        "trusted": true
      },
      "cell_type": "code",
      "source": "import numpy as np\nimport pandas as pd\nimport matplotlib.pyplot as plt\n%matplotlib inline",
      "execution_count": 1,
      "outputs": []
    },
    {
      "metadata": {
        "trusted": true
      },
      "cell_type": "code",
      "source": "defaultCC = pd.read_csv('UCI_Credit_Card.csv', index_col = 'ID')",
      "execution_count": 3,
      "outputs": []
    },
    {
      "metadata": {
        "trusted": true
      },
      "cell_type": "code",
      "source": "defaultCC_1 = defaultCC.copy()",
      "execution_count": 4,
      "outputs": []
    },
    {
      "metadata": {
        "trusted": true
      },
      "cell_type": "code",
      "source": "defaultCC.head(4)",
      "execution_count": 5,
      "outputs": [
        {
          "output_type": "execute_result",
          "execution_count": 5,
          "data": {
            "text/html": "<div>\n<style scoped>\n    .dataframe tbody tr th:only-of-type {\n        vertical-align: middle;\n    }\n\n    .dataframe tbody tr th {\n        vertical-align: top;\n    }\n\n    .dataframe thead th {\n        text-align: right;\n    }\n</style>\n<table border=\"1\" class=\"dataframe\">\n  <thead>\n    <tr style=\"text-align: right;\">\n      <th></th>\n      <th>LIMIT_BAL</th>\n      <th>SEX</th>\n      <th>EDUCATION</th>\n      <th>MARRIAGE</th>\n      <th>AGE</th>\n      <th>PAY_0</th>\n      <th>PAY_2</th>\n      <th>PAY_3</th>\n      <th>PAY_4</th>\n      <th>PAY_5</th>\n      <th>...</th>\n      <th>BILL_AMT4</th>\n      <th>BILL_AMT5</th>\n      <th>BILL_AMT6</th>\n      <th>PAY_AMT1</th>\n      <th>PAY_AMT2</th>\n      <th>PAY_AMT3</th>\n      <th>PAY_AMT4</th>\n      <th>PAY_AMT5</th>\n      <th>PAY_AMT6</th>\n      <th>default.payment.next.month</th>\n    </tr>\n    <tr>\n      <th>ID</th>\n      <th></th>\n      <th></th>\n      <th></th>\n      <th></th>\n      <th></th>\n      <th></th>\n      <th></th>\n      <th></th>\n      <th></th>\n      <th></th>\n      <th></th>\n      <th></th>\n      <th></th>\n      <th></th>\n      <th></th>\n      <th></th>\n      <th></th>\n      <th></th>\n      <th></th>\n      <th></th>\n      <th></th>\n    </tr>\n  </thead>\n  <tbody>\n    <tr>\n      <th>1</th>\n      <td>20000.0</td>\n      <td>2</td>\n      <td>2</td>\n      <td>1</td>\n      <td>24</td>\n      <td>2</td>\n      <td>2</td>\n      <td>-1</td>\n      <td>-1</td>\n      <td>-2</td>\n      <td>...</td>\n      <td>0.0</td>\n      <td>0.0</td>\n      <td>0.0</td>\n      <td>0.0</td>\n      <td>689.0</td>\n      <td>0.0</td>\n      <td>0.0</td>\n      <td>0.0</td>\n      <td>0.0</td>\n      <td>1</td>\n    </tr>\n    <tr>\n      <th>2</th>\n      <td>120000.0</td>\n      <td>2</td>\n      <td>2</td>\n      <td>2</td>\n      <td>26</td>\n      <td>-1</td>\n      <td>2</td>\n      <td>0</td>\n      <td>0</td>\n      <td>0</td>\n      <td>...</td>\n      <td>3272.0</td>\n      <td>3455.0</td>\n      <td>3261.0</td>\n      <td>0.0</td>\n      <td>1000.0</td>\n      <td>1000.0</td>\n      <td>1000.0</td>\n      <td>0.0</td>\n      <td>2000.0</td>\n      <td>1</td>\n    </tr>\n    <tr>\n      <th>3</th>\n      <td>90000.0</td>\n      <td>2</td>\n      <td>2</td>\n      <td>2</td>\n      <td>34</td>\n      <td>0</td>\n      <td>0</td>\n      <td>0</td>\n      <td>0</td>\n      <td>0</td>\n      <td>...</td>\n      <td>14331.0</td>\n      <td>14948.0</td>\n      <td>15549.0</td>\n      <td>1518.0</td>\n      <td>1500.0</td>\n      <td>1000.0</td>\n      <td>1000.0</td>\n      <td>1000.0</td>\n      <td>5000.0</td>\n      <td>0</td>\n    </tr>\n    <tr>\n      <th>4</th>\n      <td>50000.0</td>\n      <td>2</td>\n      <td>2</td>\n      <td>1</td>\n      <td>37</td>\n      <td>0</td>\n      <td>0</td>\n      <td>0</td>\n      <td>0</td>\n      <td>0</td>\n      <td>...</td>\n      <td>28314.0</td>\n      <td>28959.0</td>\n      <td>29547.0</td>\n      <td>2000.0</td>\n      <td>2019.0</td>\n      <td>1200.0</td>\n      <td>1100.0</td>\n      <td>1069.0</td>\n      <td>1000.0</td>\n      <td>0</td>\n    </tr>\n  </tbody>\n</table>\n<p>4 rows × 24 columns</p>\n</div>",
            "text/plain": "    LIMIT_BAL  SEX  EDUCATION  MARRIAGE  AGE  PAY_0  PAY_2  PAY_3  PAY_4  \\\nID                                                                         \n1     20000.0    2          2         1   24      2      2     -1     -1   \n2    120000.0    2          2         2   26     -1      2      0      0   \n3     90000.0    2          2         2   34      0      0      0      0   \n4     50000.0    2          2         1   37      0      0      0      0   \n\n    PAY_5             ...              BILL_AMT4  BILL_AMT5  BILL_AMT6  \\\nID                    ...                                                \n1      -2             ...                    0.0        0.0        0.0   \n2       0             ...                 3272.0     3455.0     3261.0   \n3       0             ...                14331.0    14948.0    15549.0   \n4       0             ...                28314.0    28959.0    29547.0   \n\n    PAY_AMT1  PAY_AMT2  PAY_AMT3  PAY_AMT4  PAY_AMT5  PAY_AMT6  \\\nID                                                               \n1        0.0     689.0       0.0       0.0       0.0       0.0   \n2        0.0    1000.0    1000.0    1000.0       0.0    2000.0   \n3     1518.0    1500.0    1000.0    1000.0    1000.0    5000.0   \n4     2000.0    2019.0    1200.0    1100.0    1069.0    1000.0   \n\n    default.payment.next.month  \nID                              \n1                            1  \n2                            1  \n3                            0  \n4                            0  \n\n[4 rows x 24 columns]"
          },
          "metadata": {}
        }
      ]
    },
    {
      "metadata": {
        "trusted": true
      },
      "cell_type": "code",
      "source": "defaultCC.rename(columns = lambda x:x.lower(), inplace=True)",
      "execution_count": 6,
      "outputs": []
    },
    {
      "metadata": {
        "trusted": true
      },
      "cell_type": "code",
      "source": "defaultCC.head(4)",
      "execution_count": 7,
      "outputs": [
        {
          "output_type": "execute_result",
          "execution_count": 7,
          "data": {
            "text/html": "<div>\n<style scoped>\n    .dataframe tbody tr th:only-of-type {\n        vertical-align: middle;\n    }\n\n    .dataframe tbody tr th {\n        vertical-align: top;\n    }\n\n    .dataframe thead th {\n        text-align: right;\n    }\n</style>\n<table border=\"1\" class=\"dataframe\">\n  <thead>\n    <tr style=\"text-align: right;\">\n      <th></th>\n      <th>limit_bal</th>\n      <th>sex</th>\n      <th>education</th>\n      <th>marriage</th>\n      <th>age</th>\n      <th>pay_0</th>\n      <th>pay_2</th>\n      <th>pay_3</th>\n      <th>pay_4</th>\n      <th>pay_5</th>\n      <th>...</th>\n      <th>bill_amt4</th>\n      <th>bill_amt5</th>\n      <th>bill_amt6</th>\n      <th>pay_amt1</th>\n      <th>pay_amt2</th>\n      <th>pay_amt3</th>\n      <th>pay_amt4</th>\n      <th>pay_amt5</th>\n      <th>pay_amt6</th>\n      <th>default.payment.next.month</th>\n    </tr>\n    <tr>\n      <th>ID</th>\n      <th></th>\n      <th></th>\n      <th></th>\n      <th></th>\n      <th></th>\n      <th></th>\n      <th></th>\n      <th></th>\n      <th></th>\n      <th></th>\n      <th></th>\n      <th></th>\n      <th></th>\n      <th></th>\n      <th></th>\n      <th></th>\n      <th></th>\n      <th></th>\n      <th></th>\n      <th></th>\n      <th></th>\n    </tr>\n  </thead>\n  <tbody>\n    <tr>\n      <th>1</th>\n      <td>20000.0</td>\n      <td>2</td>\n      <td>2</td>\n      <td>1</td>\n      <td>24</td>\n      <td>2</td>\n      <td>2</td>\n      <td>-1</td>\n      <td>-1</td>\n      <td>-2</td>\n      <td>...</td>\n      <td>0.0</td>\n      <td>0.0</td>\n      <td>0.0</td>\n      <td>0.0</td>\n      <td>689.0</td>\n      <td>0.0</td>\n      <td>0.0</td>\n      <td>0.0</td>\n      <td>0.0</td>\n      <td>1</td>\n    </tr>\n    <tr>\n      <th>2</th>\n      <td>120000.0</td>\n      <td>2</td>\n      <td>2</td>\n      <td>2</td>\n      <td>26</td>\n      <td>-1</td>\n      <td>2</td>\n      <td>0</td>\n      <td>0</td>\n      <td>0</td>\n      <td>...</td>\n      <td>3272.0</td>\n      <td>3455.0</td>\n      <td>3261.0</td>\n      <td>0.0</td>\n      <td>1000.0</td>\n      <td>1000.0</td>\n      <td>1000.0</td>\n      <td>0.0</td>\n      <td>2000.0</td>\n      <td>1</td>\n    </tr>\n    <tr>\n      <th>3</th>\n      <td>90000.0</td>\n      <td>2</td>\n      <td>2</td>\n      <td>2</td>\n      <td>34</td>\n      <td>0</td>\n      <td>0</td>\n      <td>0</td>\n      <td>0</td>\n      <td>0</td>\n      <td>...</td>\n      <td>14331.0</td>\n      <td>14948.0</td>\n      <td>15549.0</td>\n      <td>1518.0</td>\n      <td>1500.0</td>\n      <td>1000.0</td>\n      <td>1000.0</td>\n      <td>1000.0</td>\n      <td>5000.0</td>\n      <td>0</td>\n    </tr>\n    <tr>\n      <th>4</th>\n      <td>50000.0</td>\n      <td>2</td>\n      <td>2</td>\n      <td>1</td>\n      <td>37</td>\n      <td>0</td>\n      <td>0</td>\n      <td>0</td>\n      <td>0</td>\n      <td>0</td>\n      <td>...</td>\n      <td>28314.0</td>\n      <td>28959.0</td>\n      <td>29547.0</td>\n      <td>2000.0</td>\n      <td>2019.0</td>\n      <td>1200.0</td>\n      <td>1100.0</td>\n      <td>1069.0</td>\n      <td>1000.0</td>\n      <td>0</td>\n    </tr>\n  </tbody>\n</table>\n<p>4 rows × 24 columns</p>\n</div>",
            "text/plain": "    limit_bal  sex  education  marriage  age  pay_0  pay_2  pay_3  pay_4  \\\nID                                                                         \n1     20000.0    2          2         1   24      2      2     -1     -1   \n2    120000.0    2          2         2   26     -1      2      0      0   \n3     90000.0    2          2         2   34      0      0      0      0   \n4     50000.0    2          2         1   37      0      0      0      0   \n\n    pay_5             ...              bill_amt4  bill_amt5  bill_amt6  \\\nID                    ...                                                \n1      -2             ...                    0.0        0.0        0.0   \n2       0             ...                 3272.0     3455.0     3261.0   \n3       0             ...                14331.0    14948.0    15549.0   \n4       0             ...                28314.0    28959.0    29547.0   \n\n    pay_amt1  pay_amt2  pay_amt3  pay_amt4  pay_amt5  pay_amt6  \\\nID                                                               \n1        0.0     689.0       0.0       0.0       0.0       0.0   \n2        0.0    1000.0    1000.0    1000.0       0.0    2000.0   \n3     1518.0    1500.0    1000.0    1000.0    1000.0    5000.0   \n4     2000.0    2019.0    1200.0    1100.0    1069.0    1000.0   \n\n    default.payment.next.month  \nID                              \n1                            1  \n2                            1  \n3                            0  \n4                            0  \n\n[4 rows x 24 columns]"
          },
          "metadata": {}
        }
      ]
    },
    {
      "metadata": {
        "trusted": true
      },
      "cell_type": "code",
      "source": "#Base Values : female, other_education, not_married\ndefaultCC['grad_school'] = (defaultCC['education'] == 1).astype('int')\ndefaultCC['university'] = (defaultCC['education'] == 2).astype('int')\ndefaultCC['high_school'] = (defaultCC['education'] == 3).astype('int')\ndefaultCC.drop(['education'],1,inplace = True)",
      "execution_count": 8,
      "outputs": []
    },
    {
      "metadata": {
        "trusted": true
      },
      "cell_type": "code",
      "source": "defaultCC.head(10)",
      "execution_count": 9,
      "outputs": [
        {
          "output_type": "execute_result",
          "execution_count": 9,
          "data": {
            "text/html": "<div>\n<style scoped>\n    .dataframe tbody tr th:only-of-type {\n        vertical-align: middle;\n    }\n\n    .dataframe tbody tr th {\n        vertical-align: top;\n    }\n\n    .dataframe thead th {\n        text-align: right;\n    }\n</style>\n<table border=\"1\" class=\"dataframe\">\n  <thead>\n    <tr style=\"text-align: right;\">\n      <th></th>\n      <th>limit_bal</th>\n      <th>sex</th>\n      <th>marriage</th>\n      <th>age</th>\n      <th>pay_0</th>\n      <th>pay_2</th>\n      <th>pay_3</th>\n      <th>pay_4</th>\n      <th>pay_5</th>\n      <th>pay_6</th>\n      <th>...</th>\n      <th>pay_amt1</th>\n      <th>pay_amt2</th>\n      <th>pay_amt3</th>\n      <th>pay_amt4</th>\n      <th>pay_amt5</th>\n      <th>pay_amt6</th>\n      <th>default.payment.next.month</th>\n      <th>grad_school</th>\n      <th>university</th>\n      <th>high_school</th>\n    </tr>\n    <tr>\n      <th>ID</th>\n      <th></th>\n      <th></th>\n      <th></th>\n      <th></th>\n      <th></th>\n      <th></th>\n      <th></th>\n      <th></th>\n      <th></th>\n      <th></th>\n      <th></th>\n      <th></th>\n      <th></th>\n      <th></th>\n      <th></th>\n      <th></th>\n      <th></th>\n      <th></th>\n      <th></th>\n      <th></th>\n      <th></th>\n    </tr>\n  </thead>\n  <tbody>\n    <tr>\n      <th>1</th>\n      <td>20000.0</td>\n      <td>2</td>\n      <td>1</td>\n      <td>24</td>\n      <td>2</td>\n      <td>2</td>\n      <td>-1</td>\n      <td>-1</td>\n      <td>-2</td>\n      <td>-2</td>\n      <td>...</td>\n      <td>0.0</td>\n      <td>689.0</td>\n      <td>0.0</td>\n      <td>0.0</td>\n      <td>0.0</td>\n      <td>0.0</td>\n      <td>1</td>\n      <td>0</td>\n      <td>1</td>\n      <td>0</td>\n    </tr>\n    <tr>\n      <th>2</th>\n      <td>120000.0</td>\n      <td>2</td>\n      <td>2</td>\n      <td>26</td>\n      <td>-1</td>\n      <td>2</td>\n      <td>0</td>\n      <td>0</td>\n      <td>0</td>\n      <td>2</td>\n      <td>...</td>\n      <td>0.0</td>\n      <td>1000.0</td>\n      <td>1000.0</td>\n      <td>1000.0</td>\n      <td>0.0</td>\n      <td>2000.0</td>\n      <td>1</td>\n      <td>0</td>\n      <td>1</td>\n      <td>0</td>\n    </tr>\n    <tr>\n      <th>3</th>\n      <td>90000.0</td>\n      <td>2</td>\n      <td>2</td>\n      <td>34</td>\n      <td>0</td>\n      <td>0</td>\n      <td>0</td>\n      <td>0</td>\n      <td>0</td>\n      <td>0</td>\n      <td>...</td>\n      <td>1518.0</td>\n      <td>1500.0</td>\n      <td>1000.0</td>\n      <td>1000.0</td>\n      <td>1000.0</td>\n      <td>5000.0</td>\n      <td>0</td>\n      <td>0</td>\n      <td>1</td>\n      <td>0</td>\n    </tr>\n    <tr>\n      <th>4</th>\n      <td>50000.0</td>\n      <td>2</td>\n      <td>1</td>\n      <td>37</td>\n      <td>0</td>\n      <td>0</td>\n      <td>0</td>\n      <td>0</td>\n      <td>0</td>\n      <td>0</td>\n      <td>...</td>\n      <td>2000.0</td>\n      <td>2019.0</td>\n      <td>1200.0</td>\n      <td>1100.0</td>\n      <td>1069.0</td>\n      <td>1000.0</td>\n      <td>0</td>\n      <td>0</td>\n      <td>1</td>\n      <td>0</td>\n    </tr>\n    <tr>\n      <th>5</th>\n      <td>50000.0</td>\n      <td>1</td>\n      <td>1</td>\n      <td>57</td>\n      <td>-1</td>\n      <td>0</td>\n      <td>-1</td>\n      <td>0</td>\n      <td>0</td>\n      <td>0</td>\n      <td>...</td>\n      <td>2000.0</td>\n      <td>36681.0</td>\n      <td>10000.0</td>\n      <td>9000.0</td>\n      <td>689.0</td>\n      <td>679.0</td>\n      <td>0</td>\n      <td>0</td>\n      <td>1</td>\n      <td>0</td>\n    </tr>\n    <tr>\n      <th>6</th>\n      <td>50000.0</td>\n      <td>1</td>\n      <td>2</td>\n      <td>37</td>\n      <td>0</td>\n      <td>0</td>\n      <td>0</td>\n      <td>0</td>\n      <td>0</td>\n      <td>0</td>\n      <td>...</td>\n      <td>2500.0</td>\n      <td>1815.0</td>\n      <td>657.0</td>\n      <td>1000.0</td>\n      <td>1000.0</td>\n      <td>800.0</td>\n      <td>0</td>\n      <td>1</td>\n      <td>0</td>\n      <td>0</td>\n    </tr>\n    <tr>\n      <th>7</th>\n      <td>500000.0</td>\n      <td>1</td>\n      <td>2</td>\n      <td>29</td>\n      <td>0</td>\n      <td>0</td>\n      <td>0</td>\n      <td>0</td>\n      <td>0</td>\n      <td>0</td>\n      <td>...</td>\n      <td>55000.0</td>\n      <td>40000.0</td>\n      <td>38000.0</td>\n      <td>20239.0</td>\n      <td>13750.0</td>\n      <td>13770.0</td>\n      <td>0</td>\n      <td>1</td>\n      <td>0</td>\n      <td>0</td>\n    </tr>\n    <tr>\n      <th>8</th>\n      <td>100000.0</td>\n      <td>2</td>\n      <td>2</td>\n      <td>23</td>\n      <td>0</td>\n      <td>-1</td>\n      <td>-1</td>\n      <td>0</td>\n      <td>0</td>\n      <td>-1</td>\n      <td>...</td>\n      <td>380.0</td>\n      <td>601.0</td>\n      <td>0.0</td>\n      <td>581.0</td>\n      <td>1687.0</td>\n      <td>1542.0</td>\n      <td>0</td>\n      <td>0</td>\n      <td>1</td>\n      <td>0</td>\n    </tr>\n    <tr>\n      <th>9</th>\n      <td>140000.0</td>\n      <td>2</td>\n      <td>1</td>\n      <td>28</td>\n      <td>0</td>\n      <td>0</td>\n      <td>2</td>\n      <td>0</td>\n      <td>0</td>\n      <td>0</td>\n      <td>...</td>\n      <td>3329.0</td>\n      <td>0.0</td>\n      <td>432.0</td>\n      <td>1000.0</td>\n      <td>1000.0</td>\n      <td>1000.0</td>\n      <td>0</td>\n      <td>0</td>\n      <td>0</td>\n      <td>1</td>\n    </tr>\n    <tr>\n      <th>10</th>\n      <td>20000.0</td>\n      <td>1</td>\n      <td>2</td>\n      <td>35</td>\n      <td>-2</td>\n      <td>-2</td>\n      <td>-2</td>\n      <td>-2</td>\n      <td>-1</td>\n      <td>-1</td>\n      <td>...</td>\n      <td>0.0</td>\n      <td>0.0</td>\n      <td>0.0</td>\n      <td>13007.0</td>\n      <td>1122.0</td>\n      <td>0.0</td>\n      <td>0</td>\n      <td>0</td>\n      <td>0</td>\n      <td>1</td>\n    </tr>\n  </tbody>\n</table>\n<p>10 rows × 26 columns</p>\n</div>",
            "text/plain": "    limit_bal  sex  marriage  age  pay_0  pay_2  pay_3  pay_4  pay_5  pay_6  \\\nID                                                                            \n1     20000.0    2         1   24      2      2     -1     -1     -2     -2   \n2    120000.0    2         2   26     -1      2      0      0      0      2   \n3     90000.0    2         2   34      0      0      0      0      0      0   \n4     50000.0    2         1   37      0      0      0      0      0      0   \n5     50000.0    1         1   57     -1      0     -1      0      0      0   \n6     50000.0    1         2   37      0      0      0      0      0      0   \n7    500000.0    1         2   29      0      0      0      0      0      0   \n8    100000.0    2         2   23      0     -1     -1      0      0     -1   \n9    140000.0    2         1   28      0      0      2      0      0      0   \n10    20000.0    1         2   35     -2     -2     -2     -2     -1     -1   \n\n       ...       pay_amt1  pay_amt2  pay_amt3  pay_amt4  pay_amt5  pay_amt6  \\\nID     ...                                                                    \n1      ...            0.0     689.0       0.0       0.0       0.0       0.0   \n2      ...            0.0    1000.0    1000.0    1000.0       0.0    2000.0   \n3      ...         1518.0    1500.0    1000.0    1000.0    1000.0    5000.0   \n4      ...         2000.0    2019.0    1200.0    1100.0    1069.0    1000.0   \n5      ...         2000.0   36681.0   10000.0    9000.0     689.0     679.0   \n6      ...         2500.0    1815.0     657.0    1000.0    1000.0     800.0   \n7      ...        55000.0   40000.0   38000.0   20239.0   13750.0   13770.0   \n8      ...          380.0     601.0       0.0     581.0    1687.0    1542.0   \n9      ...         3329.0       0.0     432.0    1000.0    1000.0    1000.0   \n10     ...            0.0       0.0       0.0   13007.0    1122.0       0.0   \n\n    default.payment.next.month  grad_school  university  high_school  \nID                                                                    \n1                            1            0           1            0  \n2                            1            0           1            0  \n3                            0            0           1            0  \n4                            0            0           1            0  \n5                            0            0           1            0  \n6                            0            1           0            0  \n7                            0            1           0            0  \n8                            0            0           1            0  \n9                            0            0           0            1  \n10                           0            0           0            1  \n\n[10 rows x 26 columns]"
          },
          "metadata": {}
        }
      ]
    },
    {
      "metadata": {
        "trusted": true
      },
      "cell_type": "code",
      "source": "defaultCC['male'] = (defaultCC['sex'] == 1).astype('int')\ndefaultCC.drop(['sex'],1,inplace=True)",
      "execution_count": 10,
      "outputs": []
    },
    {
      "metadata": {
        "trusted": true
      },
      "cell_type": "code",
      "source": "defaultCC.head(10)",
      "execution_count": 11,
      "outputs": [
        {
          "output_type": "execute_result",
          "execution_count": 11,
          "data": {
            "text/html": "<div>\n<style scoped>\n    .dataframe tbody tr th:only-of-type {\n        vertical-align: middle;\n    }\n\n    .dataframe tbody tr th {\n        vertical-align: top;\n    }\n\n    .dataframe thead th {\n        text-align: right;\n    }\n</style>\n<table border=\"1\" class=\"dataframe\">\n  <thead>\n    <tr style=\"text-align: right;\">\n      <th></th>\n      <th>limit_bal</th>\n      <th>marriage</th>\n      <th>age</th>\n      <th>pay_0</th>\n      <th>pay_2</th>\n      <th>pay_3</th>\n      <th>pay_4</th>\n      <th>pay_5</th>\n      <th>pay_6</th>\n      <th>bill_amt1</th>\n      <th>...</th>\n      <th>pay_amt2</th>\n      <th>pay_amt3</th>\n      <th>pay_amt4</th>\n      <th>pay_amt5</th>\n      <th>pay_amt6</th>\n      <th>default.payment.next.month</th>\n      <th>grad_school</th>\n      <th>university</th>\n      <th>high_school</th>\n      <th>male</th>\n    </tr>\n    <tr>\n      <th>ID</th>\n      <th></th>\n      <th></th>\n      <th></th>\n      <th></th>\n      <th></th>\n      <th></th>\n      <th></th>\n      <th></th>\n      <th></th>\n      <th></th>\n      <th></th>\n      <th></th>\n      <th></th>\n      <th></th>\n      <th></th>\n      <th></th>\n      <th></th>\n      <th></th>\n      <th></th>\n      <th></th>\n      <th></th>\n    </tr>\n  </thead>\n  <tbody>\n    <tr>\n      <th>1</th>\n      <td>20000.0</td>\n      <td>1</td>\n      <td>24</td>\n      <td>2</td>\n      <td>2</td>\n      <td>-1</td>\n      <td>-1</td>\n      <td>-2</td>\n      <td>-2</td>\n      <td>3913.0</td>\n      <td>...</td>\n      <td>689.0</td>\n      <td>0.0</td>\n      <td>0.0</td>\n      <td>0.0</td>\n      <td>0.0</td>\n      <td>1</td>\n      <td>0</td>\n      <td>1</td>\n      <td>0</td>\n      <td>0</td>\n    </tr>\n    <tr>\n      <th>2</th>\n      <td>120000.0</td>\n      <td>2</td>\n      <td>26</td>\n      <td>-1</td>\n      <td>2</td>\n      <td>0</td>\n      <td>0</td>\n      <td>0</td>\n      <td>2</td>\n      <td>2682.0</td>\n      <td>...</td>\n      <td>1000.0</td>\n      <td>1000.0</td>\n      <td>1000.0</td>\n      <td>0.0</td>\n      <td>2000.0</td>\n      <td>1</td>\n      <td>0</td>\n      <td>1</td>\n      <td>0</td>\n      <td>0</td>\n    </tr>\n    <tr>\n      <th>3</th>\n      <td>90000.0</td>\n      <td>2</td>\n      <td>34</td>\n      <td>0</td>\n      <td>0</td>\n      <td>0</td>\n      <td>0</td>\n      <td>0</td>\n      <td>0</td>\n      <td>29239.0</td>\n      <td>...</td>\n      <td>1500.0</td>\n      <td>1000.0</td>\n      <td>1000.0</td>\n      <td>1000.0</td>\n      <td>5000.0</td>\n      <td>0</td>\n      <td>0</td>\n      <td>1</td>\n      <td>0</td>\n      <td>0</td>\n    </tr>\n    <tr>\n      <th>4</th>\n      <td>50000.0</td>\n      <td>1</td>\n      <td>37</td>\n      <td>0</td>\n      <td>0</td>\n      <td>0</td>\n      <td>0</td>\n      <td>0</td>\n      <td>0</td>\n      <td>46990.0</td>\n      <td>...</td>\n      <td>2019.0</td>\n      <td>1200.0</td>\n      <td>1100.0</td>\n      <td>1069.0</td>\n      <td>1000.0</td>\n      <td>0</td>\n      <td>0</td>\n      <td>1</td>\n      <td>0</td>\n      <td>0</td>\n    </tr>\n    <tr>\n      <th>5</th>\n      <td>50000.0</td>\n      <td>1</td>\n      <td>57</td>\n      <td>-1</td>\n      <td>0</td>\n      <td>-1</td>\n      <td>0</td>\n      <td>0</td>\n      <td>0</td>\n      <td>8617.0</td>\n      <td>...</td>\n      <td>36681.0</td>\n      <td>10000.0</td>\n      <td>9000.0</td>\n      <td>689.0</td>\n      <td>679.0</td>\n      <td>0</td>\n      <td>0</td>\n      <td>1</td>\n      <td>0</td>\n      <td>1</td>\n    </tr>\n    <tr>\n      <th>6</th>\n      <td>50000.0</td>\n      <td>2</td>\n      <td>37</td>\n      <td>0</td>\n      <td>0</td>\n      <td>0</td>\n      <td>0</td>\n      <td>0</td>\n      <td>0</td>\n      <td>64400.0</td>\n      <td>...</td>\n      <td>1815.0</td>\n      <td>657.0</td>\n      <td>1000.0</td>\n      <td>1000.0</td>\n      <td>800.0</td>\n      <td>0</td>\n      <td>1</td>\n      <td>0</td>\n      <td>0</td>\n      <td>1</td>\n    </tr>\n    <tr>\n      <th>7</th>\n      <td>500000.0</td>\n      <td>2</td>\n      <td>29</td>\n      <td>0</td>\n      <td>0</td>\n      <td>0</td>\n      <td>0</td>\n      <td>0</td>\n      <td>0</td>\n      <td>367965.0</td>\n      <td>...</td>\n      <td>40000.0</td>\n      <td>38000.0</td>\n      <td>20239.0</td>\n      <td>13750.0</td>\n      <td>13770.0</td>\n      <td>0</td>\n      <td>1</td>\n      <td>0</td>\n      <td>0</td>\n      <td>1</td>\n    </tr>\n    <tr>\n      <th>8</th>\n      <td>100000.0</td>\n      <td>2</td>\n      <td>23</td>\n      <td>0</td>\n      <td>-1</td>\n      <td>-1</td>\n      <td>0</td>\n      <td>0</td>\n      <td>-1</td>\n      <td>11876.0</td>\n      <td>...</td>\n      <td>601.0</td>\n      <td>0.0</td>\n      <td>581.0</td>\n      <td>1687.0</td>\n      <td>1542.0</td>\n      <td>0</td>\n      <td>0</td>\n      <td>1</td>\n      <td>0</td>\n      <td>0</td>\n    </tr>\n    <tr>\n      <th>9</th>\n      <td>140000.0</td>\n      <td>1</td>\n      <td>28</td>\n      <td>0</td>\n      <td>0</td>\n      <td>2</td>\n      <td>0</td>\n      <td>0</td>\n      <td>0</td>\n      <td>11285.0</td>\n      <td>...</td>\n      <td>0.0</td>\n      <td>432.0</td>\n      <td>1000.0</td>\n      <td>1000.0</td>\n      <td>1000.0</td>\n      <td>0</td>\n      <td>0</td>\n      <td>0</td>\n      <td>1</td>\n      <td>0</td>\n    </tr>\n    <tr>\n      <th>10</th>\n      <td>20000.0</td>\n      <td>2</td>\n      <td>35</td>\n      <td>-2</td>\n      <td>-2</td>\n      <td>-2</td>\n      <td>-2</td>\n      <td>-1</td>\n      <td>-1</td>\n      <td>0.0</td>\n      <td>...</td>\n      <td>0.0</td>\n      <td>0.0</td>\n      <td>13007.0</td>\n      <td>1122.0</td>\n      <td>0.0</td>\n      <td>0</td>\n      <td>0</td>\n      <td>0</td>\n      <td>1</td>\n      <td>1</td>\n    </tr>\n  </tbody>\n</table>\n<p>10 rows × 26 columns</p>\n</div>",
            "text/plain": "    limit_bal  marriage  age  pay_0  pay_2  pay_3  pay_4  pay_5  pay_6  \\\nID                                                                       \n1     20000.0         1   24      2      2     -1     -1     -2     -2   \n2    120000.0         2   26     -1      2      0      0      0      2   \n3     90000.0         2   34      0      0      0      0      0      0   \n4     50000.0         1   37      0      0      0      0      0      0   \n5     50000.0         1   57     -1      0     -1      0      0      0   \n6     50000.0         2   37      0      0      0      0      0      0   \n7    500000.0         2   29      0      0      0      0      0      0   \n8    100000.0         2   23      0     -1     -1      0      0     -1   \n9    140000.0         1   28      0      0      2      0      0      0   \n10    20000.0         2   35     -2     -2     -2     -2     -1     -1   \n\n    bill_amt1  ...   pay_amt2  pay_amt3  pay_amt4  pay_amt5  pay_amt6  \\\nID             ...                                                      \n1      3913.0  ...      689.0       0.0       0.0       0.0       0.0   \n2      2682.0  ...     1000.0    1000.0    1000.0       0.0    2000.0   \n3     29239.0  ...     1500.0    1000.0    1000.0    1000.0    5000.0   \n4     46990.0  ...     2019.0    1200.0    1100.0    1069.0    1000.0   \n5      8617.0  ...    36681.0   10000.0    9000.0     689.0     679.0   \n6     64400.0  ...     1815.0     657.0    1000.0    1000.0     800.0   \n7    367965.0  ...    40000.0   38000.0   20239.0   13750.0   13770.0   \n8     11876.0  ...      601.0       0.0     581.0    1687.0    1542.0   \n9     11285.0  ...        0.0     432.0    1000.0    1000.0    1000.0   \n10        0.0  ...        0.0       0.0   13007.0    1122.0       0.0   \n\n    default.payment.next.month  grad_school  university  high_school  male  \nID                                                                          \n1                            1            0           1            0     0  \n2                            1            0           1            0     0  \n3                            0            0           1            0     0  \n4                            0            0           1            0     0  \n5                            0            0           1            0     1  \n6                            0            1           0            0     1  \n7                            0            1           0            0     1  \n8                            0            0           1            0     0  \n9                            0            0           0            1     0  \n10                           0            0           0            1     1  \n\n[10 rows x 26 columns]"
          },
          "metadata": {}
        }
      ]
    },
    {
      "metadata": {
        "trusted": true
      },
      "cell_type": "code",
      "source": "defaultCC['married'] = (defaultCC['marriage'] == 1).astype('int')\ndefaultCC.drop(['marriage'],1,inplace=True)",
      "execution_count": 12,
      "outputs": []
    },
    {
      "metadata": {
        "trusted": true
      },
      "cell_type": "code",
      "source": "from sklearn.preprocessing import OneHotEncoder\nenc = OneHotEncoder(handle_unknown='ignore')\nX = [['Male', 1], ['Female', 3], ['Female', 2]]\nenc.fit(X)",
      "execution_count": 13,
      "outputs": [
        {
          "output_type": "execute_result",
          "execution_count": 13,
          "data": {
            "text/plain": "OneHotEncoder(categorical_features=None, categories=None,\n       dtype=<class 'numpy.float64'>, handle_unknown='ignore',\n       n_values=None, sparse=True)"
          },
          "metadata": {}
        }
      ]
    },
    {
      "metadata": {
        "trusted": true
      },
      "cell_type": "code",
      "source": "defaultCC.head(10)",
      "execution_count": 14,
      "outputs": [
        {
          "output_type": "execute_result",
          "execution_count": 14,
          "data": {
            "text/html": "<div>\n<style scoped>\n    .dataframe tbody tr th:only-of-type {\n        vertical-align: middle;\n    }\n\n    .dataframe tbody tr th {\n        vertical-align: top;\n    }\n\n    .dataframe thead th {\n        text-align: right;\n    }\n</style>\n<table border=\"1\" class=\"dataframe\">\n  <thead>\n    <tr style=\"text-align: right;\">\n      <th></th>\n      <th>limit_bal</th>\n      <th>age</th>\n      <th>pay_0</th>\n      <th>pay_2</th>\n      <th>pay_3</th>\n      <th>pay_4</th>\n      <th>pay_5</th>\n      <th>pay_6</th>\n      <th>bill_amt1</th>\n      <th>bill_amt2</th>\n      <th>...</th>\n      <th>pay_amt3</th>\n      <th>pay_amt4</th>\n      <th>pay_amt5</th>\n      <th>pay_amt6</th>\n      <th>default.payment.next.month</th>\n      <th>grad_school</th>\n      <th>university</th>\n      <th>high_school</th>\n      <th>male</th>\n      <th>married</th>\n    </tr>\n    <tr>\n      <th>ID</th>\n      <th></th>\n      <th></th>\n      <th></th>\n      <th></th>\n      <th></th>\n      <th></th>\n      <th></th>\n      <th></th>\n      <th></th>\n      <th></th>\n      <th></th>\n      <th></th>\n      <th></th>\n      <th></th>\n      <th></th>\n      <th></th>\n      <th></th>\n      <th></th>\n      <th></th>\n      <th></th>\n      <th></th>\n    </tr>\n  </thead>\n  <tbody>\n    <tr>\n      <th>1</th>\n      <td>20000.0</td>\n      <td>24</td>\n      <td>2</td>\n      <td>2</td>\n      <td>-1</td>\n      <td>-1</td>\n      <td>-2</td>\n      <td>-2</td>\n      <td>3913.0</td>\n      <td>3102.0</td>\n      <td>...</td>\n      <td>0.0</td>\n      <td>0.0</td>\n      <td>0.0</td>\n      <td>0.0</td>\n      <td>1</td>\n      <td>0</td>\n      <td>1</td>\n      <td>0</td>\n      <td>0</td>\n      <td>1</td>\n    </tr>\n    <tr>\n      <th>2</th>\n      <td>120000.0</td>\n      <td>26</td>\n      <td>-1</td>\n      <td>2</td>\n      <td>0</td>\n      <td>0</td>\n      <td>0</td>\n      <td>2</td>\n      <td>2682.0</td>\n      <td>1725.0</td>\n      <td>...</td>\n      <td>1000.0</td>\n      <td>1000.0</td>\n      <td>0.0</td>\n      <td>2000.0</td>\n      <td>1</td>\n      <td>0</td>\n      <td>1</td>\n      <td>0</td>\n      <td>0</td>\n      <td>0</td>\n    </tr>\n    <tr>\n      <th>3</th>\n      <td>90000.0</td>\n      <td>34</td>\n      <td>0</td>\n      <td>0</td>\n      <td>0</td>\n      <td>0</td>\n      <td>0</td>\n      <td>0</td>\n      <td>29239.0</td>\n      <td>14027.0</td>\n      <td>...</td>\n      <td>1000.0</td>\n      <td>1000.0</td>\n      <td>1000.0</td>\n      <td>5000.0</td>\n      <td>0</td>\n      <td>0</td>\n      <td>1</td>\n      <td>0</td>\n      <td>0</td>\n      <td>0</td>\n    </tr>\n    <tr>\n      <th>4</th>\n      <td>50000.0</td>\n      <td>37</td>\n      <td>0</td>\n      <td>0</td>\n      <td>0</td>\n      <td>0</td>\n      <td>0</td>\n      <td>0</td>\n      <td>46990.0</td>\n      <td>48233.0</td>\n      <td>...</td>\n      <td>1200.0</td>\n      <td>1100.0</td>\n      <td>1069.0</td>\n      <td>1000.0</td>\n      <td>0</td>\n      <td>0</td>\n      <td>1</td>\n      <td>0</td>\n      <td>0</td>\n      <td>1</td>\n    </tr>\n    <tr>\n      <th>5</th>\n      <td>50000.0</td>\n      <td>57</td>\n      <td>-1</td>\n      <td>0</td>\n      <td>-1</td>\n      <td>0</td>\n      <td>0</td>\n      <td>0</td>\n      <td>8617.0</td>\n      <td>5670.0</td>\n      <td>...</td>\n      <td>10000.0</td>\n      <td>9000.0</td>\n      <td>689.0</td>\n      <td>679.0</td>\n      <td>0</td>\n      <td>0</td>\n      <td>1</td>\n      <td>0</td>\n      <td>1</td>\n      <td>1</td>\n    </tr>\n    <tr>\n      <th>6</th>\n      <td>50000.0</td>\n      <td>37</td>\n      <td>0</td>\n      <td>0</td>\n      <td>0</td>\n      <td>0</td>\n      <td>0</td>\n      <td>0</td>\n      <td>64400.0</td>\n      <td>57069.0</td>\n      <td>...</td>\n      <td>657.0</td>\n      <td>1000.0</td>\n      <td>1000.0</td>\n      <td>800.0</td>\n      <td>0</td>\n      <td>1</td>\n      <td>0</td>\n      <td>0</td>\n      <td>1</td>\n      <td>0</td>\n    </tr>\n    <tr>\n      <th>7</th>\n      <td>500000.0</td>\n      <td>29</td>\n      <td>0</td>\n      <td>0</td>\n      <td>0</td>\n      <td>0</td>\n      <td>0</td>\n      <td>0</td>\n      <td>367965.0</td>\n      <td>412023.0</td>\n      <td>...</td>\n      <td>38000.0</td>\n      <td>20239.0</td>\n      <td>13750.0</td>\n      <td>13770.0</td>\n      <td>0</td>\n      <td>1</td>\n      <td>0</td>\n      <td>0</td>\n      <td>1</td>\n      <td>0</td>\n    </tr>\n    <tr>\n      <th>8</th>\n      <td>100000.0</td>\n      <td>23</td>\n      <td>0</td>\n      <td>-1</td>\n      <td>-1</td>\n      <td>0</td>\n      <td>0</td>\n      <td>-1</td>\n      <td>11876.0</td>\n      <td>380.0</td>\n      <td>...</td>\n      <td>0.0</td>\n      <td>581.0</td>\n      <td>1687.0</td>\n      <td>1542.0</td>\n      <td>0</td>\n      <td>0</td>\n      <td>1</td>\n      <td>0</td>\n      <td>0</td>\n      <td>0</td>\n    </tr>\n    <tr>\n      <th>9</th>\n      <td>140000.0</td>\n      <td>28</td>\n      <td>0</td>\n      <td>0</td>\n      <td>2</td>\n      <td>0</td>\n      <td>0</td>\n      <td>0</td>\n      <td>11285.0</td>\n      <td>14096.0</td>\n      <td>...</td>\n      <td>432.0</td>\n      <td>1000.0</td>\n      <td>1000.0</td>\n      <td>1000.0</td>\n      <td>0</td>\n      <td>0</td>\n      <td>0</td>\n      <td>1</td>\n      <td>0</td>\n      <td>1</td>\n    </tr>\n    <tr>\n      <th>10</th>\n      <td>20000.0</td>\n      <td>35</td>\n      <td>-2</td>\n      <td>-2</td>\n      <td>-2</td>\n      <td>-2</td>\n      <td>-1</td>\n      <td>-1</td>\n      <td>0.0</td>\n      <td>0.0</td>\n      <td>...</td>\n      <td>0.0</td>\n      <td>13007.0</td>\n      <td>1122.0</td>\n      <td>0.0</td>\n      <td>0</td>\n      <td>0</td>\n      <td>0</td>\n      <td>1</td>\n      <td>1</td>\n      <td>0</td>\n    </tr>\n  </tbody>\n</table>\n<p>10 rows × 26 columns</p>\n</div>",
            "text/plain": "    limit_bal  age  pay_0  pay_2  pay_3  pay_4  pay_5  pay_6  bill_amt1  \\\nID                                                                        \n1     20000.0   24      2      2     -1     -1     -2     -2     3913.0   \n2    120000.0   26     -1      2      0      0      0      2     2682.0   \n3     90000.0   34      0      0      0      0      0      0    29239.0   \n4     50000.0   37      0      0      0      0      0      0    46990.0   \n5     50000.0   57     -1      0     -1      0      0      0     8617.0   \n6     50000.0   37      0      0      0      0      0      0    64400.0   \n7    500000.0   29      0      0      0      0      0      0   367965.0   \n8    100000.0   23      0     -1     -1      0      0     -1    11876.0   \n9    140000.0   28      0      0      2      0      0      0    11285.0   \n10    20000.0   35     -2     -2     -2     -2     -1     -1        0.0   \n\n    bill_amt2   ...     pay_amt3  pay_amt4  pay_amt5  pay_amt6  \\\nID              ...                                              \n1      3102.0   ...          0.0       0.0       0.0       0.0   \n2      1725.0   ...       1000.0    1000.0       0.0    2000.0   \n3     14027.0   ...       1000.0    1000.0    1000.0    5000.0   \n4     48233.0   ...       1200.0    1100.0    1069.0    1000.0   \n5      5670.0   ...      10000.0    9000.0     689.0     679.0   \n6     57069.0   ...        657.0    1000.0    1000.0     800.0   \n7    412023.0   ...      38000.0   20239.0   13750.0   13770.0   \n8       380.0   ...          0.0     581.0    1687.0    1542.0   \n9     14096.0   ...        432.0    1000.0    1000.0    1000.0   \n10        0.0   ...          0.0   13007.0    1122.0       0.0   \n\n    default.payment.next.month  grad_school  university  high_school  male  \\\nID                                                                           \n1                            1            0           1            0     0   \n2                            1            0           1            0     0   \n3                            0            0           1            0     0   \n4                            0            0           1            0     0   \n5                            0            0           1            0     1   \n6                            0            1           0            0     1   \n7                            0            1           0            0     1   \n8                            0            0           1            0     0   \n9                            0            0           0            1     0   \n10                           0            0           0            1     1   \n\n    married  \nID           \n1         1  \n2         0  \n3         0  \n4         1  \n5         1  \n6         0  \n7         0  \n8         0  \n9         1  \n10        0  \n\n[10 rows x 26 columns]"
          },
          "metadata": {}
        }
      ]
    },
    {
      "metadata": {
        "trusted": true
      },
      "cell_type": "code",
      "source": "#Pay Features\npay_features = ['pay_0','pay_2','pay_3','pay_4','pay_5','pay_6']\nfor p in pay_features:\n    defaultCC.loc[defaultCC[p]<=0,p] = 0",
      "execution_count": 15,
      "outputs": []
    },
    {
      "metadata": {
        "trusted": true
      },
      "cell_type": "code",
      "source": "#Rename\ndefaultCC.rename(columns={'default.payment.next.month':'default'}, inplace=True)\ndefaultCC.head(10)",
      "execution_count": 16,
      "outputs": [
        {
          "output_type": "execute_result",
          "execution_count": 16,
          "data": {
            "text/html": "<div>\n<style scoped>\n    .dataframe tbody tr th:only-of-type {\n        vertical-align: middle;\n    }\n\n    .dataframe tbody tr th {\n        vertical-align: top;\n    }\n\n    .dataframe thead th {\n        text-align: right;\n    }\n</style>\n<table border=\"1\" class=\"dataframe\">\n  <thead>\n    <tr style=\"text-align: right;\">\n      <th></th>\n      <th>limit_bal</th>\n      <th>age</th>\n      <th>pay_0</th>\n      <th>pay_2</th>\n      <th>pay_3</th>\n      <th>pay_4</th>\n      <th>pay_5</th>\n      <th>pay_6</th>\n      <th>bill_amt1</th>\n      <th>bill_amt2</th>\n      <th>...</th>\n      <th>pay_amt3</th>\n      <th>pay_amt4</th>\n      <th>pay_amt5</th>\n      <th>pay_amt6</th>\n      <th>default</th>\n      <th>grad_school</th>\n      <th>university</th>\n      <th>high_school</th>\n      <th>male</th>\n      <th>married</th>\n    </tr>\n    <tr>\n      <th>ID</th>\n      <th></th>\n      <th></th>\n      <th></th>\n      <th></th>\n      <th></th>\n      <th></th>\n      <th></th>\n      <th></th>\n      <th></th>\n      <th></th>\n      <th></th>\n      <th></th>\n      <th></th>\n      <th></th>\n      <th></th>\n      <th></th>\n      <th></th>\n      <th></th>\n      <th></th>\n      <th></th>\n      <th></th>\n    </tr>\n  </thead>\n  <tbody>\n    <tr>\n      <th>1</th>\n      <td>20000.0</td>\n      <td>24</td>\n      <td>2</td>\n      <td>2</td>\n      <td>0</td>\n      <td>0</td>\n      <td>0</td>\n      <td>0</td>\n      <td>3913.0</td>\n      <td>3102.0</td>\n      <td>...</td>\n      <td>0.0</td>\n      <td>0.0</td>\n      <td>0.0</td>\n      <td>0.0</td>\n      <td>1</td>\n      <td>0</td>\n      <td>1</td>\n      <td>0</td>\n      <td>0</td>\n      <td>1</td>\n    </tr>\n    <tr>\n      <th>2</th>\n      <td>120000.0</td>\n      <td>26</td>\n      <td>0</td>\n      <td>2</td>\n      <td>0</td>\n      <td>0</td>\n      <td>0</td>\n      <td>2</td>\n      <td>2682.0</td>\n      <td>1725.0</td>\n      <td>...</td>\n      <td>1000.0</td>\n      <td>1000.0</td>\n      <td>0.0</td>\n      <td>2000.0</td>\n      <td>1</td>\n      <td>0</td>\n      <td>1</td>\n      <td>0</td>\n      <td>0</td>\n      <td>0</td>\n    </tr>\n    <tr>\n      <th>3</th>\n      <td>90000.0</td>\n      <td>34</td>\n      <td>0</td>\n      <td>0</td>\n      <td>0</td>\n      <td>0</td>\n      <td>0</td>\n      <td>0</td>\n      <td>29239.0</td>\n      <td>14027.0</td>\n      <td>...</td>\n      <td>1000.0</td>\n      <td>1000.0</td>\n      <td>1000.0</td>\n      <td>5000.0</td>\n      <td>0</td>\n      <td>0</td>\n      <td>1</td>\n      <td>0</td>\n      <td>0</td>\n      <td>0</td>\n    </tr>\n    <tr>\n      <th>4</th>\n      <td>50000.0</td>\n      <td>37</td>\n      <td>0</td>\n      <td>0</td>\n      <td>0</td>\n      <td>0</td>\n      <td>0</td>\n      <td>0</td>\n      <td>46990.0</td>\n      <td>48233.0</td>\n      <td>...</td>\n      <td>1200.0</td>\n      <td>1100.0</td>\n      <td>1069.0</td>\n      <td>1000.0</td>\n      <td>0</td>\n      <td>0</td>\n      <td>1</td>\n      <td>0</td>\n      <td>0</td>\n      <td>1</td>\n    </tr>\n    <tr>\n      <th>5</th>\n      <td>50000.0</td>\n      <td>57</td>\n      <td>0</td>\n      <td>0</td>\n      <td>0</td>\n      <td>0</td>\n      <td>0</td>\n      <td>0</td>\n      <td>8617.0</td>\n      <td>5670.0</td>\n      <td>...</td>\n      <td>10000.0</td>\n      <td>9000.0</td>\n      <td>689.0</td>\n      <td>679.0</td>\n      <td>0</td>\n      <td>0</td>\n      <td>1</td>\n      <td>0</td>\n      <td>1</td>\n      <td>1</td>\n    </tr>\n    <tr>\n      <th>6</th>\n      <td>50000.0</td>\n      <td>37</td>\n      <td>0</td>\n      <td>0</td>\n      <td>0</td>\n      <td>0</td>\n      <td>0</td>\n      <td>0</td>\n      <td>64400.0</td>\n      <td>57069.0</td>\n      <td>...</td>\n      <td>657.0</td>\n      <td>1000.0</td>\n      <td>1000.0</td>\n      <td>800.0</td>\n      <td>0</td>\n      <td>1</td>\n      <td>0</td>\n      <td>0</td>\n      <td>1</td>\n      <td>0</td>\n    </tr>\n    <tr>\n      <th>7</th>\n      <td>500000.0</td>\n      <td>29</td>\n      <td>0</td>\n      <td>0</td>\n      <td>0</td>\n      <td>0</td>\n      <td>0</td>\n      <td>0</td>\n      <td>367965.0</td>\n      <td>412023.0</td>\n      <td>...</td>\n      <td>38000.0</td>\n      <td>20239.0</td>\n      <td>13750.0</td>\n      <td>13770.0</td>\n      <td>0</td>\n      <td>1</td>\n      <td>0</td>\n      <td>0</td>\n      <td>1</td>\n      <td>0</td>\n    </tr>\n    <tr>\n      <th>8</th>\n      <td>100000.0</td>\n      <td>23</td>\n      <td>0</td>\n      <td>0</td>\n      <td>0</td>\n      <td>0</td>\n      <td>0</td>\n      <td>0</td>\n      <td>11876.0</td>\n      <td>380.0</td>\n      <td>...</td>\n      <td>0.0</td>\n      <td>581.0</td>\n      <td>1687.0</td>\n      <td>1542.0</td>\n      <td>0</td>\n      <td>0</td>\n      <td>1</td>\n      <td>0</td>\n      <td>0</td>\n      <td>0</td>\n    </tr>\n    <tr>\n      <th>9</th>\n      <td>140000.0</td>\n      <td>28</td>\n      <td>0</td>\n      <td>0</td>\n      <td>2</td>\n      <td>0</td>\n      <td>0</td>\n      <td>0</td>\n      <td>11285.0</td>\n      <td>14096.0</td>\n      <td>...</td>\n      <td>432.0</td>\n      <td>1000.0</td>\n      <td>1000.0</td>\n      <td>1000.0</td>\n      <td>0</td>\n      <td>0</td>\n      <td>0</td>\n      <td>1</td>\n      <td>0</td>\n      <td>1</td>\n    </tr>\n    <tr>\n      <th>10</th>\n      <td>20000.0</td>\n      <td>35</td>\n      <td>0</td>\n      <td>0</td>\n      <td>0</td>\n      <td>0</td>\n      <td>0</td>\n      <td>0</td>\n      <td>0.0</td>\n      <td>0.0</td>\n      <td>...</td>\n      <td>0.0</td>\n      <td>13007.0</td>\n      <td>1122.0</td>\n      <td>0.0</td>\n      <td>0</td>\n      <td>0</td>\n      <td>0</td>\n      <td>1</td>\n      <td>1</td>\n      <td>0</td>\n    </tr>\n  </tbody>\n</table>\n<p>10 rows × 26 columns</p>\n</div>",
            "text/plain": "    limit_bal  age  pay_0  pay_2  pay_3  pay_4  pay_5  pay_6  bill_amt1  \\\nID                                                                        \n1     20000.0   24      2      2      0      0      0      0     3913.0   \n2    120000.0   26      0      2      0      0      0      2     2682.0   \n3     90000.0   34      0      0      0      0      0      0    29239.0   \n4     50000.0   37      0      0      0      0      0      0    46990.0   \n5     50000.0   57      0      0      0      0      0      0     8617.0   \n6     50000.0   37      0      0      0      0      0      0    64400.0   \n7    500000.0   29      0      0      0      0      0      0   367965.0   \n8    100000.0   23      0      0      0      0      0      0    11876.0   \n9    140000.0   28      0      0      2      0      0      0    11285.0   \n10    20000.0   35      0      0      0      0      0      0        0.0   \n\n    bill_amt2   ...     pay_amt3  pay_amt4  pay_amt5  pay_amt6  default  \\\nID              ...                                                       \n1      3102.0   ...          0.0       0.0       0.0       0.0        1   \n2      1725.0   ...       1000.0    1000.0       0.0    2000.0        1   \n3     14027.0   ...       1000.0    1000.0    1000.0    5000.0        0   \n4     48233.0   ...       1200.0    1100.0    1069.0    1000.0        0   \n5      5670.0   ...      10000.0    9000.0     689.0     679.0        0   \n6     57069.0   ...        657.0    1000.0    1000.0     800.0        0   \n7    412023.0   ...      38000.0   20239.0   13750.0   13770.0        0   \n8       380.0   ...          0.0     581.0    1687.0    1542.0        0   \n9     14096.0   ...        432.0    1000.0    1000.0    1000.0        0   \n10        0.0   ...          0.0   13007.0    1122.0       0.0        0   \n\n    grad_school  university  high_school  male  married  \nID                                                       \n1             0           1            0     0        1  \n2             0           1            0     0        0  \n3             0           1            0     0        0  \n4             0           1            0     0        1  \n5             0           1            0     1        1  \n6             1           0            0     1        0  \n7             1           0            0     1        0  \n8             0           1            0     0        0  \n9             0           0            1     0        1  \n10            0           0            1     1        0  \n\n[10 rows x 26 columns]"
          },
          "metadata": {}
        }
      ]
    },
    {
      "metadata": {
        "trusted": true
      },
      "cell_type": "code",
      "source": "from sklearn.model_selection import train_test_split\nfrom sklearn.metrics import accuracy_score, precision_score, recall_score, confusion_matrix, precision_recall_curve\nfrom sklearn.preprocessing import RobustScaler",
      "execution_count": 17,
      "outputs": []
    },
    {
      "metadata": {
        "trusted": true
      },
      "cell_type": "code",
      "source": "target_name = 'default'\nX = defaultCC.drop(['default'], 1)\nrobust_scaler = RobustScaler()\nX = robust_scaler.fit_transform(X)\ny = defaultCC[target_name]\nX_train, X_test, y_train, y_test = train_test_split(X,y, test_size = 0.15, random_state = 123, stratify = y)",
      "execution_count": 18,
      "outputs": []
    },
    {
      "metadata": {
        "trusted": true
      },
      "cell_type": "code",
      "source": "X",
      "execution_count": 19,
      "outputs": [
        {
          "output_type": "execute_result",
          "execution_count": 19,
          "data": {
            "text/plain": "array([[-0.63157895, -0.76923077,  2.        , ...,  0.        ,\n         0.        ,  1.        ],\n       [-0.10526316, -0.61538462,  0.        , ...,  0.        ,\n         0.        ,  0.        ],\n       [-0.26315789,  0.        ,  0.        , ...,  0.        ,\n         0.        ,  0.        ],\n       ...,\n       [-0.57894737,  0.23076923,  4.        , ...,  0.        ,\n         1.        ,  0.        ],\n       [-0.31578947,  0.53846154,  1.        , ...,  1.        ,\n         1.        ,  1.        ],\n       [-0.47368421,  0.92307692,  0.        , ...,  0.        ,\n         1.        ,  1.        ]])"
          },
          "metadata": {}
        }
      ]
    },
    {
      "metadata": {
        "trusted": true
      },
      "cell_type": "code",
      "source": "y",
      "execution_count": 20,
      "outputs": [
        {
          "output_type": "execute_result",
          "execution_count": 20,
          "data": {
            "text/plain": "ID\n1        1\n2        1\n3        0\n4        0\n5        0\n6        0\n7        0\n8        0\n9        0\n10       0\n11       0\n12       0\n13       0\n14       1\n15       0\n16       0\n17       1\n18       0\n19       0\n20       0\n21       0\n22       1\n23       1\n24       1\n25       0\n26       0\n27       1\n28       0\n29       0\n30       0\n        ..\n29971    0\n29972    0\n29973    0\n29974    1\n29975    1\n29976    0\n29977    1\n29978    0\n29979    0\n29980    0\n29981    0\n29982    0\n29983    1\n29984    0\n29985    0\n29986    0\n29987    0\n29988    0\n29989    0\n29990    0\n29991    0\n29992    1\n29993    0\n29994    0\n29995    1\n29996    0\n29997    0\n29998    1\n29999    1\n30000    1\nName: default, Length: 30000, dtype: int64"
          },
          "metadata": {}
        }
      ]
    },
    {
      "metadata": {
        "trusted": true
      },
      "cell_type": "code",
      "source": "#function to create a confusion matrix\ndef Cmatrix(CM, labels=['pay','default']):\n    df = pd.DataFrame(data=CM, index=labels, columns=labels)\n    df.index.name = 'TRUE'\n    df.columns.name = 'PREDICTION'\n    df.loc['Total'] = df.sum()\n    df['Total'] = df.sum(axis=1)\n    return df",
      "execution_count": 21,
      "outputs": []
    },
    {
      "metadata": {
        "trusted": true
      },
      "cell_type": "code",
      "source": "#data frame for evaluation matrix\nmetrics = pd.DataFrame(index=['accuracy','precision','recall'],columns = ['LogisticReg','ClassTree','NaiveBayes'])",
      "execution_count": 22,
      "outputs": []
    },
    {
      "metadata": {
        "trusted": true
      },
      "cell_type": "code",
      "source": "from sklearn.linear_model import LogisticRegression",
      "execution_count": 23,
      "outputs": []
    },
    {
      "metadata": {
        "trusted": true
      },
      "cell_type": "code",
      "source": "logistic_regression = LogisticRegression(n_jobs=-1, random_state=15)",
      "execution_count": 24,
      "outputs": []
    },
    {
      "metadata": {
        "trusted": true
      },
      "cell_type": "code",
      "source": "logistic_regression.fit(X_train, y_train)",
      "execution_count": 25,
      "outputs": [
        {
          "output_type": "stream",
          "text": "/home/nbuser/anaconda3_501/lib/python3.6/site-packages/sklearn/linear_model/logistic.py:433: FutureWarning: Default solver will be changed to 'lbfgs' in 0.22. Specify a solver to silence this warning.\n  FutureWarning)\n/home/nbuser/anaconda3_501/lib/python3.6/site-packages/sklearn/linear_model/logistic.py:1300: UserWarning: 'n_jobs' > 1 does not have any effect when 'solver' is set to 'liblinear'. Got 'n_jobs' = 2.\n  \" = {}.\".format(effective_n_jobs(self.n_jobs)))\n",
          "name": "stderr"
        },
        {
          "output_type": "execute_result",
          "execution_count": 25,
          "data": {
            "text/plain": "LogisticRegression(C=1.0, class_weight=None, dual=False, fit_intercept=True,\n          intercept_scaling=1, max_iter=100, multi_class='warn', n_jobs=-1,\n          penalty='l2', random_state=15, solver='warn', tol=0.0001,\n          verbose=0, warm_start=False)"
          },
          "metadata": {}
        }
      ]
    },
    {
      "metadata": {
        "trusted": true
      },
      "cell_type": "code",
      "source": "y_pred_test = logistic_regression.predict(X_test)\nmetrics.loc['accuracy','LogisticReg'] = accuracy_score(y_pred=y_pred_test, y_true=y_test)\nmetrics.loc['precision','LogisticReg'] = precision_score(y_pred=y_pred_test, y_true=y_test)\nmetrics.loc['recall','LogisticReg'] = recall_score(y_pred=y_pred_test, y_true=y_test)\n\nCM =confusion_matrix(y_pred=y_pred_test, y_true=y_test)\nCmatrix(CM)",
      "execution_count": 26,
      "outputs": [
        {
          "output_type": "execute_result",
          "execution_count": 26,
          "data": {
            "text/html": "<div>\n<style scoped>\n    .dataframe tbody tr th:only-of-type {\n        vertical-align: middle;\n    }\n\n    .dataframe tbody tr th {\n        vertical-align: top;\n    }\n\n    .dataframe thead th {\n        text-align: right;\n    }\n</style>\n<table border=\"1\" class=\"dataframe\">\n  <thead>\n    <tr style=\"text-align: right;\">\n      <th>PREDICTION</th>\n      <th>pay</th>\n      <th>default</th>\n      <th>Total</th>\n    </tr>\n    <tr>\n      <th>TRUE</th>\n      <th></th>\n      <th></th>\n      <th></th>\n    </tr>\n  </thead>\n  <tbody>\n    <tr>\n      <th>pay</th>\n      <td>3365</td>\n      <td>140</td>\n      <td>3505</td>\n    </tr>\n    <tr>\n      <th>default</th>\n      <td>671</td>\n      <td>324</td>\n      <td>995</td>\n    </tr>\n    <tr>\n      <th>Total</th>\n      <td>4036</td>\n      <td>464</td>\n      <td>4500</td>\n    </tr>\n  </tbody>\n</table>\n</div>",
            "text/plain": "PREDICTION   pay  default  Total\nTRUE                            \npay         3365      140   3505\ndefault      671      324    995\nTotal       4036      464   4500"
          },
          "metadata": {}
        }
      ]
    },
    {
      "metadata": {
        "trusted": true
      },
      "cell_type": "code",
      "source": "from sklearn.tree import DecisionTreeClassifier",
      "execution_count": 27,
      "outputs": []
    },
    {
      "metadata": {
        "trusted": true
      },
      "cell_type": "code",
      "source": "class_tree = DecisionTreeClassifier(min_samples_split=30, min_samples_leaf=10, random_state=10)",
      "execution_count": 28,
      "outputs": []
    },
    {
      "metadata": {
        "trusted": true
      },
      "cell_type": "code",
      "source": "class_tree.fit(X_train,y_train)",
      "execution_count": 29,
      "outputs": [
        {
          "output_type": "execute_result",
          "execution_count": 29,
          "data": {
            "text/plain": "DecisionTreeClassifier(class_weight=None, criterion='gini', max_depth=None,\n            max_features=None, max_leaf_nodes=None,\n            min_impurity_decrease=0.0, min_impurity_split=None,\n            min_samples_leaf=10, min_samples_split=30,\n            min_weight_fraction_leaf=0.0, presort=False, random_state=10,\n            splitter='best')"
          },
          "metadata": {}
        }
      ]
    },
    {
      "metadata": {
        "trusted": true
      },
      "cell_type": "code",
      "source": "y_pred_test = class_tree.predict(X_test)\nmetrics.loc['accuracy','ClassTree'] = accuracy_score(y_pred=y_pred_test, y_true=y_test)\nmetrics.loc['precision','ClassTree'] = precision_score(y_pred=y_pred_test, y_true=y_test)\nmetrics.loc['recall','ClassTree'] = recall_score(y_pred=y_pred_test, y_true=y_test)\n\nCM =confusion_matrix(y_pred=y_pred_test, y_true=y_test)\nCmatrix(CM)",
      "execution_count": 30,
      "outputs": [
        {
          "output_type": "execute_result",
          "execution_count": 30,
          "data": {
            "text/html": "<div>\n<style scoped>\n    .dataframe tbody tr th:only-of-type {\n        vertical-align: middle;\n    }\n\n    .dataframe tbody tr th {\n        vertical-align: top;\n    }\n\n    .dataframe thead th {\n        text-align: right;\n    }\n</style>\n<table border=\"1\" class=\"dataframe\">\n  <thead>\n    <tr style=\"text-align: right;\">\n      <th>PREDICTION</th>\n      <th>pay</th>\n      <th>default</th>\n      <th>Total</th>\n    </tr>\n    <tr>\n      <th>TRUE</th>\n      <th></th>\n      <th></th>\n      <th></th>\n    </tr>\n  </thead>\n  <tbody>\n    <tr>\n      <th>pay</th>\n      <td>3185</td>\n      <td>320</td>\n      <td>3505</td>\n    </tr>\n    <tr>\n      <th>default</th>\n      <td>634</td>\n      <td>361</td>\n      <td>995</td>\n    </tr>\n    <tr>\n      <th>Total</th>\n      <td>3819</td>\n      <td>681</td>\n      <td>4500</td>\n    </tr>\n  </tbody>\n</table>\n</div>",
            "text/plain": "PREDICTION   pay  default  Total\nTRUE                            \npay         3185      320   3505\ndefault      634      361    995\nTotal       3819      681   4500"
          },
          "metadata": {}
        }
      ]
    },
    {
      "metadata": {
        "trusted": true
      },
      "cell_type": "code",
      "source": "from sklearn.naive_bayes import GaussianNB",
      "execution_count": 31,
      "outputs": []
    },
    {
      "metadata": {
        "trusted": true
      },
      "cell_type": "code",
      "source": "NBC = GaussianNB()",
      "execution_count": 32,
      "outputs": []
    },
    {
      "metadata": {
        "trusted": true
      },
      "cell_type": "code",
      "source": "NBC.fit(X_train,y_train)",
      "execution_count": 33,
      "outputs": [
        {
          "output_type": "execute_result",
          "execution_count": 33,
          "data": {
            "text/plain": "GaussianNB(priors=None, var_smoothing=1e-09)"
          },
          "metadata": {}
        }
      ]
    },
    {
      "metadata": {
        "trusted": true
      },
      "cell_type": "code",
      "source": "y_pred_test = NBC.predict(X_test)\nmetrics.loc['accuracy','NaiveBayes'] = accuracy_score(y_pred=y_pred_test, y_true=y_test)\nmetrics.loc['precision','NaiveBayes'] = precision_score(y_pred=y_pred_test, y_true=y_test)\nmetrics.loc['recall','NaiveBayes'] = recall_score(y_pred=y_pred_test, y_true=y_test)\n\nCM =confusion_matrix(y_pred=y_pred_test, y_true=y_test)\nCmatrix(CM)",
      "execution_count": 34,
      "outputs": [
        {
          "output_type": "execute_result",
          "execution_count": 34,
          "data": {
            "text/html": "<div>\n<style scoped>\n    .dataframe tbody tr th:only-of-type {\n        vertical-align: middle;\n    }\n\n    .dataframe tbody tr th {\n        vertical-align: top;\n    }\n\n    .dataframe thead th {\n        text-align: right;\n    }\n</style>\n<table border=\"1\" class=\"dataframe\">\n  <thead>\n    <tr style=\"text-align: right;\">\n      <th>PREDICTION</th>\n      <th>pay</th>\n      <th>default</th>\n      <th>Total</th>\n    </tr>\n    <tr>\n      <th>TRUE</th>\n      <th></th>\n      <th></th>\n      <th></th>\n    </tr>\n  </thead>\n  <tbody>\n    <tr>\n      <th>pay</th>\n      <td>2912</td>\n      <td>593</td>\n      <td>3505</td>\n    </tr>\n    <tr>\n      <th>default</th>\n      <td>439</td>\n      <td>556</td>\n      <td>995</td>\n    </tr>\n    <tr>\n      <th>Total</th>\n      <td>3351</td>\n      <td>1149</td>\n      <td>4500</td>\n    </tr>\n  </tbody>\n</table>\n</div>",
            "text/plain": "PREDICTION   pay  default  Total\nTRUE                            \npay         2912      593   3505\ndefault      439      556    995\nTotal       3351     1149   4500"
          },
          "metadata": {}
        }
      ]
    },
    {
      "metadata": {
        "trusted": true
      },
      "cell_type": "code",
      "source": "100 * metrics",
      "execution_count": 35,
      "outputs": [
        {
          "output_type": "execute_result",
          "execution_count": 35,
          "data": {
            "text/html": "<div>\n<style scoped>\n    .dataframe tbody tr th:only-of-type {\n        vertical-align: middle;\n    }\n\n    .dataframe tbody tr th {\n        vertical-align: top;\n    }\n\n    .dataframe thead th {\n        text-align: right;\n    }\n</style>\n<table border=\"1\" class=\"dataframe\">\n  <thead>\n    <tr style=\"text-align: right;\">\n      <th></th>\n      <th>LogisticReg</th>\n      <th>ClassTree</th>\n      <th>NaiveBayes</th>\n    </tr>\n  </thead>\n  <tbody>\n    <tr>\n      <th>accuracy</th>\n      <td>81.9778</td>\n      <td>78.8</td>\n      <td>77.0667</td>\n    </tr>\n    <tr>\n      <th>precision</th>\n      <td>69.8276</td>\n      <td>53.0103</td>\n      <td>48.3899</td>\n    </tr>\n    <tr>\n      <th>recall</th>\n      <td>32.5628</td>\n      <td>36.2814</td>\n      <td>55.8794</td>\n    </tr>\n  </tbody>\n</table>\n</div>",
            "text/plain": "          LogisticReg ClassTree NaiveBayes\naccuracy      81.9778      78.8    77.0667\nprecision     69.8276   53.0103    48.3899\nrecall        32.5628   36.2814    55.8794"
          },
          "metadata": {}
        }
      ]
    },
    {
      "metadata": {
        "trusted": true
      },
      "cell_type": "code",
      "source": "fig,ax = plt.subplots(figsize = (8,5))\nmetrics.plot(kind = 'barh', ax=ax)\nax.grid();",
      "execution_count": 36,
      "outputs": [
        {
          "output_type": "display_data",
          "data": {
            "image/png": "[encoded data removed]",
            "text/plain": "<Figure size 576x360 with 1 Axes>"
          },
          "metadata": {
            "needs_background": "light"
          }
        }
      ]
    },
    {
      "metadata": {
        "trusted": true
      },
      "cell_type": "code",
      "source": "def make_ind_prediction(new_data):\n    data = new_data.values.reshape(1,-1)\n    data = robust_scaler.transform(data)\n    prob = logistic_regression.predict_proba(data)[0][1]\n    if prob >= 0.5:\n        return 'will default'\n    else:\n        return 'will pay'",
      "execution_count": 37,
      "outputs": []
    },
    {
      "metadata": {
        "trusted": true
      },
      "cell_type": "code",
      "source": "pay=defaultCC[defaultCC['default'] == 0]",
      "execution_count": 38,
      "outputs": []
    },
    {
      "metadata": {
        "trusted": true
      },
      "cell_type": "code",
      "source": "pay.head()",
      "execution_count": 39,
      "outputs": [
        {
          "output_type": "execute_result",
          "execution_count": 39,
          "data": {
            "text/html": "<div>\n<style scoped>\n    .dataframe tbody tr th:only-of-type {\n        vertical-align: middle;\n    }\n\n    .dataframe tbody tr th {\n        vertical-align: top;\n    }\n\n    .dataframe thead th {\n        text-align: right;\n    }\n</style>\n<table border=\"1\" class=\"dataframe\">\n  <thead>\n    <tr style=\"text-align: right;\">\n      <th></th>\n      <th>limit_bal</th>\n      <th>age</th>\n      <th>pay_0</th>\n      <th>pay_2</th>\n      <th>pay_3</th>\n      <th>pay_4</th>\n      <th>pay_5</th>\n      <th>pay_6</th>\n      <th>bill_amt1</th>\n      <th>bill_amt2</th>\n      <th>...</th>\n      <th>pay_amt3</th>\n      <th>pay_amt4</th>\n      <th>pay_amt5</th>\n      <th>pay_amt6</th>\n      <th>default</th>\n      <th>grad_school</th>\n      <th>university</th>\n      <th>high_school</th>\n      <th>male</th>\n      <th>married</th>\n    </tr>\n    <tr>\n      <th>ID</th>\n      <th></th>\n      <th></th>\n      <th></th>\n      <th></th>\n      <th></th>\n      <th></th>\n      <th></th>\n      <th></th>\n      <th></th>\n      <th></th>\n      <th></th>\n      <th></th>\n      <th></th>\n      <th></th>\n      <th></th>\n      <th></th>\n      <th></th>\n      <th></th>\n      <th></th>\n      <th></th>\n      <th></th>\n    </tr>\n  </thead>\n  <tbody>\n    <tr>\n      <th>3</th>\n      <td>90000.0</td>\n      <td>34</td>\n      <td>0</td>\n      <td>0</td>\n      <td>0</td>\n      <td>0</td>\n      <td>0</td>\n      <td>0</td>\n      <td>29239.0</td>\n      <td>14027.0</td>\n      <td>...</td>\n      <td>1000.0</td>\n      <td>1000.0</td>\n      <td>1000.0</td>\n      <td>5000.0</td>\n      <td>0</td>\n      <td>0</td>\n      <td>1</td>\n      <td>0</td>\n      <td>0</td>\n      <td>0</td>\n    </tr>\n    <tr>\n      <th>4</th>\n      <td>50000.0</td>\n      <td>37</td>\n      <td>0</td>\n      <td>0</td>\n      <td>0</td>\n      <td>0</td>\n      <td>0</td>\n      <td>0</td>\n      <td>46990.0</td>\n      <td>48233.0</td>\n      <td>...</td>\n      <td>1200.0</td>\n      <td>1100.0</td>\n      <td>1069.0</td>\n      <td>1000.0</td>\n      <td>0</td>\n      <td>0</td>\n      <td>1</td>\n      <td>0</td>\n      <td>0</td>\n      <td>1</td>\n    </tr>\n    <tr>\n      <th>5</th>\n      <td>50000.0</td>\n      <td>57</td>\n      <td>0</td>\n      <td>0</td>\n      <td>0</td>\n      <td>0</td>\n      <td>0</td>\n      <td>0</td>\n      <td>8617.0</td>\n      <td>5670.0</td>\n      <td>...</td>\n      <td>10000.0</td>\n      <td>9000.0</td>\n      <td>689.0</td>\n      <td>679.0</td>\n      <td>0</td>\n      <td>0</td>\n      <td>1</td>\n      <td>0</td>\n      <td>1</td>\n      <td>1</td>\n    </tr>\n    <tr>\n      <th>6</th>\n      <td>50000.0</td>\n      <td>37</td>\n      <td>0</td>\n      <td>0</td>\n      <td>0</td>\n      <td>0</td>\n      <td>0</td>\n      <td>0</td>\n      <td>64400.0</td>\n      <td>57069.0</td>\n      <td>...</td>\n      <td>657.0</td>\n      <td>1000.0</td>\n      <td>1000.0</td>\n      <td>800.0</td>\n      <td>0</td>\n      <td>1</td>\n      <td>0</td>\n      <td>0</td>\n      <td>1</td>\n      <td>0</td>\n    </tr>\n    <tr>\n      <th>7</th>\n      <td>500000.0</td>\n      <td>29</td>\n      <td>0</td>\n      <td>0</td>\n      <td>0</td>\n      <td>0</td>\n      <td>0</td>\n      <td>0</td>\n      <td>367965.0</td>\n      <td>412023.0</td>\n      <td>...</td>\n      <td>38000.0</td>\n      <td>20239.0</td>\n      <td>13750.0</td>\n      <td>13770.0</td>\n      <td>0</td>\n      <td>1</td>\n      <td>0</td>\n      <td>0</td>\n      <td>1</td>\n      <td>0</td>\n    </tr>\n  </tbody>\n</table>\n<p>5 rows × 26 columns</p>\n</div>",
            "text/plain": "    limit_bal  age  pay_0  pay_2  pay_3  pay_4  pay_5  pay_6  bill_amt1  \\\nID                                                                        \n3     90000.0   34      0      0      0      0      0      0    29239.0   \n4     50000.0   37      0      0      0      0      0      0    46990.0   \n5     50000.0   57      0      0      0      0      0      0     8617.0   \n6     50000.0   37      0      0      0      0      0      0    64400.0   \n7    500000.0   29      0      0      0      0      0      0   367965.0   \n\n    bill_amt2   ...     pay_amt3  pay_amt4  pay_amt5  pay_amt6  default  \\\nID              ...                                                       \n3     14027.0   ...       1000.0    1000.0    1000.0    5000.0        0   \n4     48233.0   ...       1200.0    1100.0    1069.0    1000.0        0   \n5      5670.0   ...      10000.0    9000.0     689.0     679.0        0   \n6     57069.0   ...        657.0    1000.0    1000.0     800.0        0   \n7    412023.0   ...      38000.0   20239.0   13750.0   13770.0        0   \n\n    grad_school  university  high_school  male  married  \nID                                                       \n3             0           1            0     0        0  \n4             0           1            0     0        1  \n5             0           1            0     1        1  \n6             1           0            0     1        0  \n7             1           0            0     1        0  \n\n[5 rows x 26 columns]"
          },
          "metadata": {}
        }
      ]
    },
    {
      "metadata": {
        "trusted": true
      },
      "cell_type": "code",
      "source": "from collections import OrderedDict\nnew_customer = OrderedDict([('limit_bal',4000),('age',50),('bill_amt1',500),('bill_amt2',35509),('bill_amt3',689),('bill_amt4',0),('bill_amt5',0),('bill_amt6',0),('pay_amt1',0),('pay_amt2',35509),('pay_amt3',0),('pay_amt4',0),('pay_amt5',0),('pay_amt6',0),('male',1),('grad_school',0),('university',1),('high_school',0),('married',1),('pay_0',-1),('pay_2',-1),('pay_3',-1),('pay_4',0),('pay_5',-1),('pay_6',0)])\nnew_customer = pd.Series(new_customer)\nmake_ind_prediction(new_customer)",
      "execution_count": 40,
      "outputs": [
        {
          "output_type": "execute_result",
          "execution_count": 40,
          "data": {
            "text/plain": "'will default'"
          },
          "metadata": {}
        }
      ]
    },
    {
      "metadata": {
        "trusted": true
      },
      "cell_type": "code",
      "source": "",
      "execution_count": null,
      "outputs": []
    }
  ],
  "metadata": {
    "kernelspec": {
      "name": "python36",
      "display_name": "Python 3.6",
      "language": "python"
    },
    "language_info": {
      "mimetype": "text/x-python",
      "nbconvert_exporter": "python",
      "name": "python",
      "pygments_lexer": "ipython3",
      "version": "3.6.6",
      "file_extension": ".py",
      "codemirror_mode": {
        "version": 3,
        "name": "ipython"
      }
    }
  },
  "nbformat": 4,
  "nbformat_minor": 2
}