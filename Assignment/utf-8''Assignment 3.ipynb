{
  "cells": [
    {
      "metadata": {
        "trusted": true
      },
      "cell_type": "code",
      "source": "global N \nN = int(input(\"Enter Value of N : \"))\n  \ndef printSolution(board): \n    print('\\n'.join([''.join(['{:4}'.format(item) for item in row]) for row in board]))\n    \ndef isSafe(board, row, col): \n    for i in range(col): \n        if board[row][i] == 1: \n            return False\n    \n    for i, j in zip(range(row, -1, -1), range(col, -1, -1)): \n        if board[i][j] == 1: \n            return False\n  \n    for i, j in zip(range(row, N, 1), range(col, -1, -1)): \n        if board[i][j] == 1: \n            return False\n    \n    return True\n  \ndef solveNQUtil(board, col): \n    if col >= N: \n        return True\n  \n    for i in range(N): \n        if isSafe(board, i, col): \n            board[i][col] = 1\n            if solveNQUtil(board, col + 1) == True: \n                return True\n            board[i][col] = 0\n    return False\n  \ndef solveNQ(): \n    board = arr = [[0 for i in range(N)] for j in range(N)]\n  \n    if solveNQUtil(board, 0) == False: \n        print(\"Solution does not exist\")\n        return False\n  \n    printSolution(board) \n    return True\n  \nsolveNQ()",
      "execution_count": null,
      "outputs": []
    },
    {
      "metadata": {
        "trusted": true
      },
      "cell_type": "code",
      "source": "",
      "execution_count": null,
      "outputs": []
    }
  ],
  "metadata": {
    "kernelspec": {
      "name": "python36",
      "display_name": "Python 3.6",
      "language": "python"
    },
    "language_info": {
      "mimetype": "text/ x - python",
      "nbconvert_exporter": "python",
      "version": "3.6.0",
      "name": "python",
      "file_extension": ".py",
      "pygments_lexer": "ipython2",
      "codemirror_mode": {
        "version": 2,
        "name": "ipython"
      }
    }
  },
  "nbformat": 4,
  "nbformat_minor": 2
}