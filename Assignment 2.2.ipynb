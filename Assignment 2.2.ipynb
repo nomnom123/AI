{
  "cells": [
    {
      "metadata": {
        "trusted": true
      },
      "cell_type": "code",
      "source": "def dfs(g, start):\n    stack = [start]\n    path = []\n    \n    while stack:\n        vertex = stack.pop()\n        if vertex in path:\n            continue\n        path.append(vertex)\n        for neighbour in g[vertex]:\n            stack.append(neighbour)\n    return path",
      "execution_count": 7,
      "outputs": []
    },
    {
      "metadata": {
        "trusted": true
      },
      "cell_type": "code",
      "source": "adj_matrix = {1 : [8,14],\n         3 : [51,6,9],\n         6 : [3,8,51,57],\n         8 : [1,6,9,42],\n         9 : [3,8],\n         14 : [1,97],\n         42 : [],\n         51 : [3,6],\n         57 : [],\n         97 : []}",
      "execution_count": 8,
      "outputs": []
    },
    {
      "metadata": {
        "trusted": true
      },
      "cell_type": "code",
      "source": "print(dfs(adj_matrix,1))",
      "execution_count": 9,
      "outputs": [
        {
          "output_type": "stream",
          "text": "[1, 14, 97, 8, 42, 9, 3, 6, 57, 51]\n",
          "name": "stdout"
        }
      ]
    },
    {
      "metadata": {
        "trusted": true
      },
      "cell_type": "code",
      "source": "",
      "execution_count": null,
      "outputs": []
    }
  ],
  "metadata": {
    "kernelspec": {
      "name": "python36",
      "display_name": "Python 3.6",
      "language": "python"
    },
    "language_info": {
      "mimetype": "text/x-python",
      "nbconvert_exporter": "python",
      "name": "python",
      "pygments_lexer": "ipython3",
      "version": "3.6.6",
      "file_extension": ".py",
      "codemirror_mode": {
        "version": 3,
        "name": "ipython"
      }
    }
  },
  "nbformat": 4,
  "nbformat_minor": 2
}